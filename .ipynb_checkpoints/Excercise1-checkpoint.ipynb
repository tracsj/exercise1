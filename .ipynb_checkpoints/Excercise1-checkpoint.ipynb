{
 "cells": [
  {
   "cell_type": "markdown",
   "metadata": {},
   "source": [
    "#### IPythong to get to know data a little"
   ]
  },
  {
   "cell_type": "markdown",
   "metadata": {},
   "source": [
    "#### The Questions\n",
    "Your organization wishes to understand how to change outcomes for Medicare patients. To maximize impact, your group will have to determine:\n",
    "* What hospitals are models of high-quality care—that is, which hospitals have the most consistently high scores for a variety of procedures?\n",
    "* What states are models of high-quality care?\n",
    "* Which procedures have the greatest variability between hospitals?\n",
    "* Are average scores for hospital quality or procedural variability correlated with patient survey responses?\n"
   ]
  },
  {
   "cell_type": "markdown",
   "metadata": {},
   "source": [
    "In order to answer these questions we need to know some fundamental information:\n",
    "    \n",
    "#### Hospitals\n",
    "* Name\n",
    "* Location (State)\n",
    "* Location (City)\n",
    "* ID (PK)\n",
    "\n",
    "General Hospital information is found in Hospital General Information.csv.\n",
    "Suggested renaming: hospitals.csv\n",
    "\n",
    "\n",
    "#### Hospital quality\n",
    "* Hospital ID (PK)\n",
    "* Date\n",
    "* Readmissions\n",
    "* Deaths\n",
    "\n",
    "Readmissions and Deaths - Hospital.csv\n",
    "Suggested renaming readmissions.csv\n",
    "\n",
    "#### Procedural Scores for every procedure\n",
    "* Procedure Unique ID (PK)\n",
    "* Procedure TYPE ID (FK)\n",
    "* Score\n",
    "* Hospital ID (FK)\n",
    "\n",
    "Procedure data can be found in\n",
    "Timely and Effective Care - Hospital.csv\n",
    "Suggested renaming: effective_care.csv\n",
    "\n",
    "#### Procedural mappings\n",
    "* Procedure ID (PK)\n",
    "* Procedure name\n",
    "* Procedure details etc\n",
    "\n",
    "The mapping of measures to codes can be found in Measure Dates.csv.\n",
    "\n",
    "#### Patient survey responses\n",
    "* Procedure Unique ID (PK)\n",
    "* Survey score\n",
    "\n",
    "Survey response data can be found in (your choice of)\n",
    "hvbp_hcahps_05_28_2015.csv\n",
    "Suggested renaming: surveys_responses.csv\n"
   ]
  },
  {
   "cell_type": "markdown",
   "metadata": {},
   "source": [
    "#### Table structure\n",
    "**hospitals.csv**\n",
    "\"Provider ID\",\"Hospital Name\",\"Address\",\"City\",\"State\",\"ZIP Code\",\"County Name\",\"Phone Number\",\"Hospital Type\",\"Hospital Ownership\",\"Emergency Services\"\n",
    "    \n",
    "**effective_care.csv**\n",
    "\n",
    "\"Provider ID\",\"Hospital Name\",\"Address\",\"City\",\"State\",\"ZIP Code\",\"County Name\",\"Phone Number\",\"Condition\",\"Measure ID\",\"Measure Name\",\"Score\",\"Sample\",\"Footnote\",\"Measure Start Date\",\"Measure End Date\"\n",
    "\n",
    "The measures of timely and effective care report the percentage of hospital patients who receive the treatments that are known to get the best results for certain common, serious medical conditions or surgical procedures; how quickly hospitals treat patients who come to the hospital with certain medical emergencies; and how well hospitals provide preventive services. These measures only apply to patients for whom the recommended treatment would be appropriate. The measures of timely and effective care apply to adults and children treated at hospitals paid under the Inpatient Prospective Payment System (IPPS) or the Outpatient Prospective Payment System (OPPS), as well as those that voluntarily report data on measures for whom the recommended treatments would be appropriate including: Medicare patients, Medicare managed care patients, and non-Medicare patients. Timely and effective care measures are also referred to as process of care measures and include acute myocardial infarction, heart failure, pneumonia, Surgical Care Improvement Project (SCIP), emergency department, preventive care, children’s asthma\n",
    "\n",
    "\"010001\",\"SOUTHEAST ALABAMA MEDICAL CENTER\",\"1108 ROSS CLARK CIRCLE\",\"DOTHAN\",\"AL\",\"36301\",\"HOUSTON\",\"3347938701\",\"Heart Attack or Chest Pain\",\"AMI_10\",\"Statin at Discharge\",\"98\",\"589\",\"\",\"10/01/2013\",\"09/30/2014\"\n",
    "\n",
    "**measures.csv**\n",
    "\"Measure Name\",\"Measure ID\",\"Measure Start Quarter\",\"Measure Start Date\",\"Measure End Quarter\",\"Measure End Date\"\n",
    "\n",
    "**readmissions.csv**\n",
    "\"Provider ID\",\"Hospital Name\",\"Address\",\"City\",\"State\",\"ZIP Code\",\"County Name\",\"Phone Number\",\"Measure Name\",\"Measure ID\",\"Compared to National\",\"Denominator\",\"Score\",\"Lower Estimate\",\"Higher Estimate\",\"Footnote\",\"Measure Start Date\",\"Measure End Date\"\n",
    "\n",
    "The 30-day unplanned readmission measures are estimates of unplanned readmission to any acute care hospital within 30 days of discharge from a hospitalization for any cause related to medical conditions, including heart attack, heart failure, pneumonia, chronic obstructive pulmonary disease (COPD), and stroke; and surgical procedures, including hip/knee replacement and cornary artery bypass graft (CABG). The 30-day unplanned hospital-wide readmission measure focuses on whether patients who were discharged from a hospitalization were hospitalized again within 30 days. The hospital-wide readmission measure includes all medical, surgical and gynecological, neurological, cardiovascular, and cardiorespiratory patients. The 30-day death measures are estimates of deaths within 30-days of a hospital admission from any cause related to medical conditions, including heart attack, heart failure, pneumonia, COPD, and stroke; and surgical procedures, including CABG. Hospitals’ rates are compared to the national rate to determine if hospitals’ performance on these measures is better than the national rate (lower), no different than the national rate, or worse than the national rate (higher). For some hospitals, the number of cases is too small to reliably compare their results to the national average rate. Rates are provided in the downloadable databases as decimals and typically indicate information that is presented\n",
    "\n",
    "\"010001\",\"SOUTHEAST ALABAMA MEDICAL CENTER\",\"1108 ROSS CLARK CIRCLE\",\"DOTHAN\",\"AL\",\"36301\",\"HOUSTON\",\"3347938701\",\"Acute Myocardial Infarction (AMI) 30-Day Mortality Rate\",\"MORT_30_AMI\",\"No different than the National Rate\",\"699\",\"12.2\",\"10.2\",\"14.7\",\"\",\"07/01/2011\",\"06/30/2014\"\n",
    "\n",
    "**surveys_responses.csv**\n",
    "Provider Number,Hospital Name,Address,City,State,ZIP Code,County Name,Communication with Nurses Achievement Points,Communication with Nurses Improvement Points,Communication with Nurses Dimension Score,Communication with Doctors Achievement Points,Communication with Doctors Improvement Points,Communication with Doctors Dimension Score,Responsiveness of Hospital Staff Achievement Points,Responsiveness of Hospital Staff Improvement Points,Responsiveness of Hospital Staff Dimension Score,Pain Management Achievement Points,Pain Management Improvement Points,Pain Management Dimension Score,Communication about Medicines Achievement Points,Communication about Medicines Improvement Points,Communication about Medicines Dimension Score,Cleanliness and Quietness of Hospital Environment Achievement Points,Cleanliness and Quietness of Hospital Environment Improvement Points,Cleanliness and Quietness of Hospital Environment Dimension Score,Discharge Information Achievement Points,Discharge Information Improvement Points,Discharge Information Dimension Score,Overall Rating of Hospital Achievement Points,Overall Rating of Hospital Improvement Points,Overall Rating of Hospital Dimension Score,HCAHPS Base Score,HCAHPS Consistency Score\n"
   ]
  },
  {
   "cell_type": "markdown",
   "metadata": {},
   "source": [
    " "
   ]
  }
 ],
 "metadata": {
  "kernelspec": {
   "display_name": "Python 2",
   "language": "python",
   "name": "python2"
  },
  "language_info": {
   "codemirror_mode": {
    "name": "ipython",
    "version": 2
   },
   "file_extension": ".py",
   "mimetype": "text/x-python",
   "name": "python",
   "nbconvert_exporter": "python",
   "pygments_lexer": "ipython2",
   "version": "2.7.10"
  }
 },
 "nbformat": 4,
 "nbformat_minor": 0
}
